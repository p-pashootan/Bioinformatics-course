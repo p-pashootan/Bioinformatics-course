{
  "nbformat": 4,
  "nbformat_minor": 0,
  "metadata": {
    "colab": {
      "provenance": [],
      "authorship_tag": "ABX9TyP0HmwskblBKVfAN2jqoKex",
      "include_colab_link": true
    },
    "kernelspec": {
      "name": "ir",
      "display_name": "R"
    },
    "language_info": {
      "name": "R"
    }
  },
  "cells": [
    {
      "cell_type": "markdown",
      "metadata": {
        "id": "view-in-github",
        "colab_type": "text"
      },
      "source": [
        "<a href=\"https://colab.research.google.com/github/p-pashootan/Bioinformatics-course/blob/main/MSA.ipynb\" target=\"_parent\"><img src=\"https://colab.research.google.com/assets/colab-badge.svg\" alt=\"Open In Colab\"/></a>"
      ]
    },
    {
      "cell_type": "markdown",
      "source": [
        "####MSA using clustalw\n"
      ],
      "metadata": {
        "id": "SFLDi8jO0nFw"
      }
    },
    {
      "cell_type": "markdown",
      "source": [
        "# Step 1: install and load packages"
      ],
      "metadata": {
        "id": "RE-L_mH705G2"
      }
    },
    {
      "cell_type": "code",
      "source": [
        "install.packages(\"BiocManager\")\n",
        "BiocManager::install(\"msa\")\n",
        "\n",
        "library(msa)\n",
        "library(Biostrings)"
      ],
      "metadata": {
        "id": "wt0lveWB0-uA"
      },
      "execution_count": null,
      "outputs": []
    },
    {
      "cell_type": "markdown",
      "source": [
        "# Step 2: Prepare sequences"
      ],
      "metadata": {
        "id": "px3E4-3e0_-T"
      }
    },
    {
      "cell_type": "code",
      "source": [
        "# Merge FASTA sequences\n",
        "setwd(\"C:/Users/PARIYA/Desktop/Alignment\")\n",
        "\n",
        "# List and Merge\n",
        "fasta_files <- list.files(pattern = \"\\\\.fasta$\")  # or \"\\\\.fa$\"\n",
        "cat(\"\", file = \"merged_sequences.fasta\")  # Start with an empty file\n",
        "for (f in fasta_files) {\n",
        "  cat(readLines(f), file = \"merged_sequences.fasta\", sep = \"\\n\", append = TRUE)\n",
        "}"
      ],
      "metadata": {
        "id": "_k7dxm2i1Iit"
      },
      "execution_count": null,
      "outputs": []
    },
    {
      "cell_type": "markdown",
      "source": [
        "# Step 3: Load protein sequences"
      ],
      "metadata": {
        "id": "w0Z4-hb-1IKH"
      }
    },
    {
      "cell_type": "code",
      "source": [
        "seqs <- readAAStringSet(\"merged_sequences.fasta\")\n",
        "seqs"
      ],
      "metadata": {
        "id": "-JPlunii1Ulc"
      },
      "execution_count": null,
      "outputs": []
    },
    {
      "cell_type": "markdown",
      "source": [
        "# Step 4: Run ClustalW"
      ],
      "metadata": {
        "id": "PbEmMtIv1VAK"
      }
    },
    {
      "cell_type": "code",
      "source": [
        "Sys.setenv(CLUSTALW_PATH = \"C:/Program Files/ClustalW2/clustalw2.exe\")\n",
        "\n",
        "alignment <- msaClustalW(seqs)"
      ],
      "metadata": {
        "id": "kjY0sIOn1YRm"
      },
      "execution_count": null,
      "outputs": []
    },
    {
      "cell_type": "markdown",
      "source": [
        "# Step 4: View and export result"
      ],
      "metadata": {
        "id": "VEIX-Igu1ZMu"
      }
    },
    {
      "cell_type": "code",
      "source": [
        "print(alignment)\n",
        "writeXStringSet(unmasked(alignment), filepath = \"alignment_output.fasta\")"
      ],
      "metadata": {
        "id": "igFaJM0W0nUI"
      },
      "execution_count": null,
      "outputs": []
    }
  ]
}