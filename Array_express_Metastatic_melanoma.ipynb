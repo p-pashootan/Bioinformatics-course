{
  "cells": [
    {
      "cell_type": "markdown",
      "metadata": {
        "id": "view-in-github",
        "colab_type": "text"
      },
      "source": [
        "<a href=\"https://colab.research.google.com/github/p-pashootan/Bioinformatics-course/blob/main/Array_express_Metastatic_melanoma.ipynb\" target=\"_parent\"><img src=\"https://colab.research.google.com/assets/colab-badge.svg\" alt=\"Open In Colab\"/></a>"
      ]
    },
    {
      "cell_type": "markdown",
      "metadata": {
        "id": "cxmxM41yxsYi"
      },
      "source": [
        "#Gene expression data Analysis: Comparing Metastatic, Primary and Control Groups\n",
        "\n",
        "Accession: E-GEOD-22301 (Array Express)\n"
      ]
    },
    {
      "cell_type": "markdown",
      "metadata": {
        "id": "024utcdMyeZH"
      },
      "source": [
        "# Step 1: Library Installation and Loading"
      ]
    },
    {
      "cell_type": "code",
      "execution_count": null,
      "metadata": {
        "colab": {
          "background_save": true,
          "base_uri": "https://localhost:8080/"
        },
        "id": "gndZxKuXymyl",
        "outputId": "a9691ea6-61da-4b1a-869c-6e868a9d3e17"
      },
      "outputs": [
        {
          "name": "stderr",
          "output_type": "stream",
          "text": [
            "Installing package into ‘/usr/local/lib/R/site-library’\n",
            "(as ‘lib’ is unspecified)\n",
            "\n",
            "'getOption(\"repos\")' replaces Bioconductor standard repositories, see\n",
            "'help(\"repositories\", package = \"BiocManager\")' for details.\n",
            "Replacement repositories:\n",
            "    CRAN: https://cran.rstudio.com\n",
            "\n",
            "Bioconductor version 3.21 (BiocManager 1.30.25), R 4.5.0 (2025-04-11)\n",
            "\n",
            "Installing package(s) 'BiocVersion', 'edgeR', 'limma', 'pheatmap'\n",
            "\n",
            "also installing the dependencies ‘locfit’, ‘statmod’\n",
            "\n",
            "\n",
            "Warning message in install.packages(...):\n",
            "“installation of package ‘edgeR’ had non-zero exit status”\n",
            "Old packages: 'cli', 'diffobj'\n",
            "\n",
            "Installing package into ‘/usr/local/lib/R/site-library’\n",
            "(as ‘lib’ is unspecified)\n",
            "\n"
          ]
        }
      ],
      "source": [
        "if (!requireNamespace(\"BiocManager\", quietly = TRUE))\n",
        "  install.packages(\"BiocManager\")\n",
        "\n",
        "BiocManager::install(c(\"edgeR\", \"limma\", \"pheatmap\"), force = TRUE)\n",
        "install.packages(\"ggplot2\")\n",
        "install.packages(\"ggrepel\")\n",
        "\n",
        "\n",
        "library(edgeR)\n",
        "library(limma)\n",
        "library(pheatmap)\n",
        "library(ggplot2)\n",
        "library(ggrepel)"
      ]
    },
    {
      "cell_type": "markdown",
      "metadata": {
        "id": "i8f1mntHyz9Q"
      },
      "source": [
        "# Step 2: Read and merge the sample tables\n",
        "Read and merge all sample .txt files."
      ]
    },
    {
      "cell_type": "code",
      "execution_count": null,
      "metadata": {
        "id": "C8H35mHRzENA"
      },
      "outputs": [],
      "source": [
        "setwd(\"C:\\\\Users\\\\PARIYA\\\\Desktop\\\\New folder\")\n",
        "\n",
        "\n",
        "# Get a list of all .txt files\n",
        "file_list <- list.files(pattern = \"\\\\.txt$\")\n",
        "\n",
        "# Sort the file list for consistency\n",
        "file_list <- sort(file_list)\n",
        "\n",
        "# Initialize an empty list to store data frames\n",
        "expression_list <- list()\n",
        "\n",
        "# Loop through each file and read data\n",
        "for (file in file_list) {\n",
        "  # Read the tab-delimited file\n",
        "  data <- read.table(file, header = TRUE, sep = \"\\t\", stringsAsFactors = FALSE)\n",
        "\n",
        "  # Rename the VALUE column to the sample name (based on filename)\n",
        "  sample_name <- tools::file_path_sans_ext(basename(file))\n",
        "  colnames(data) <- c(\"GeneID\", sample_name)\n",
        "\n",
        "  # Add to the list\n",
        "  expression_list[[sample_name]] <- data\n",
        "}\n",
        "\n",
        "# Merge all data frames by 'GeneID'\n",
        "merged_data <- Reduce(function(x, y) merge(x, y, by = \"GeneID\"), expression_list)\n",
        "write.table(merged_data, file = \"merged_expression_matrix.txt\", sep = \"\\t\", quote = FALSE, row.names = FALSE)"
      ]
    },
    {
      "cell_type": "markdown",
      "metadata": {
        "id": "8TyrWhL-zEaU"
      },
      "source": [
        "# Step 3: Read the merged expression matrix and define groups"
      ]
    },
    {
      "cell_type": "code",
      "execution_count": null,
      "metadata": {
        "id": "g4MXSEfVzRZF"
      },
      "outputs": [],
      "source": [
        "expr_data <- read.table(\"merged_expression_matrix.txt\", header = TRUE, sep = \"\\t\", row.names = 1)\n",
        "\n",
        "# Replace with your actual column/sample names\n",
        "sample_names <- colnames(expr_data)\n",
        "\n",
        "# Manually define which samples belong to which group\n",
        "control_samples <- c(\"GSM555116_sample_table\", \"GSM555117_sample_table\", \"GSM555118_sample_table\", \"GSM555135_sample_table\")\n",
        "metastatic_samples <- c(\"GSM555120_sample_table\", \"GSM555121_sample_table\", \"GSM555122_sample_table\", \"GSM555123_sample_table\",\n",
        "                        \"GSM555124_sample_table\", \"GSM555125_sample_table\", \"GSM555126_sample_table\", \"GSM555127_sample_table\",\n",
        "                        \"GSM555129_sample_table\", \"GSM555130_sample_table\", \"GSM555131_sample_table\", \"GSM555132_sample_table\",\n",
        "                        \"GSM555128_sample_table\", \"GSM555137_sample_table\")\n",
        "primary_samples <- c(\"GSM555133_sample_table\", \"GSM555136_sample_table\", \"GSM555119_sample_table\", \"GSM555134_sample_table\")\n"
      ]
    },
    {
      "cell_type": "code",
      "execution_count": null,
      "metadata": {
        "id": "8EVe2_sWzVul"
      },
      "outputs": [],
      "source": [
        "# Create a named vector for group numbers\n",
        "group_num <- rep(NA, length(sample_names))\n",
        "names(group_num) <- sample_names\n",
        "\n",
        "# Assign numbers to each group\n",
        "group_num[control_samples] <- 1\n",
        "group_num[primary_samples] <- 2\n",
        "group_num[metastatic_samples] <- 3\n",
        "\n",
        "# Create the final matrix\n",
        "group_matrix <- data.frame(\n",
        "  Index = 1:22,\n",
        "  SampleID = sample_names,\n",
        "  Group = group_num\n",
        ")\n",
        "print(group_matrix, row.names = FALSE)"
      ]
    },
    {
      "cell_type": "markdown",
      "metadata": {
        "id": "2t7QNE70zY8F"
      },
      "source": [
        "# Step 4: Create DGEList and Normalize Data"
      ]
    },
    {
      "cell_type": "code",
      "execution_count": null,
      "metadata": {
        "id": "FPSqTwWuzfWW"
      },
      "outputs": [],
      "source": [
        "counts <- as.matrix(expr_data)\n",
        "dge <- DGEList(counts = counts)\n",
        "\n",
        "# Convert group_num to factor with meaningful labels\n",
        "group_factor <- factor(group_num, levels = c(1, 2, 3),\n",
        "                       labels = c(\"Control\", \"Primary\", \"Metastatic\"))\n",
        "\n",
        "# Create design matrix\n",
        "design <- model.matrix(~ 0 + group_factor)\n",
        "colnames(design) <- levels(group_factor)  # Rename columns for clarity\n",
        "print(design)\n"
      ]
    },
    {
      "cell_type": "code",
      "execution_count": null,
      "metadata": {
        "id": "pBEEzjKszfcm"
      },
      "outputs": [],
      "source": [
        "# Perform Voom Transformation\n",
        "v <- voom(dge, design, plot=TRUE)\n",
        "\n",
        "# Fit the Linear Model\n",
        "fit <- lmFit(v, design)"
      ]
    },
    {
      "cell_type": "markdown",
      "metadata": {
        "id": "nREEB-n1zjin"
      },
      "source": [
        "# Step 5: Define Contrasts for Comparisons"
      ]
    },
    {
      "cell_type": "code",
      "execution_count": null,
      "metadata": {
        "id": "QO-jNXrUz39U"
      },
      "outputs": [],
      "source": [
        "# Convert numeric group to factor\n",
        "group_factor <- factor(group_num, levels = c(1, 2, 3), labels = c(\"Control\", \"Primary\", \"Metastatic\"))\n",
        "\n",
        "\n",
        "# Define contrasts\n",
        "contrast.matrix <- makeContrasts(\n",
        "  Met_vs_Control = Metastatic - Control,\n",
        "  Met_vs_Primary = Metastatic - Primary,\n",
        "  levels = design\n",
        ")\n",
        "\n",
        "print(contrast.matrix)\n",
        "# Fit contrasts and run eBayes\n",
        "fit2 <- contrasts.fit(fit, contrast.matrix)\n",
        "fit2 <- eBayes(fit2)\n",
        "\n",
        "# View top differentially expressed genes for each contrast\n",
        "topTable(fit2, coef = \"Met_vs_Control\")\n",
        "topTable(fit2, coef = \"Met_vs_Primary\")"
      ]
    },
    {
      "cell_type": "markdown",
      "metadata": {
        "id": "GN2KmwBnz-Bb"
      },
      "source": [
        "# Step 6: Get all DEGs"
      ]
    },
    {
      "cell_type": "code",
      "execution_count": null,
      "metadata": {
        "id": "pZ5j8Xzfz-MD"
      },
      "outputs": [],
      "source": [
        "# Get all DEGs for Metastatic vs Control\n",
        "deg_met_vs_ctrl <- topTable(fit2, coef = \"Met_vs_Control\", number = Inf)\n",
        "\n",
        "# Get all DEGs for Metastatic vs Primary\n",
        "deg_met_vs_prim <- topTable(fit2, coef = \"Met_vs_Primary\", number = Inf)\n",
        "\n",
        "# Write to text files\n",
        "write.table(deg_met_vs_ctrl, file = \"DEGs_Met_vs_Control.txt\", sep = \"\\t\", quote = FALSE, row.names = TRUE)\n",
        "write.table(deg_met_vs_prim, file = \"DEGs_Met_vs_Primary.txt\", sep = \"\\t\", quote = FALSE, row.names = TRUE)\n"
      ]
    },
    {
      "cell_type": "markdown",
      "metadata": {
        "id": "IccoajeX0I_V"
      },
      "source": [
        "# Step 7: Create Visualizations"
      ]
    },
    {
      "cell_type": "code",
      "execution_count": null,
      "metadata": {
        "id": "C-nRYq5b0JFr"
      },
      "outputs": [],
      "source": [
        "volcano_plot <- function(data, title, logFC_cutoff = 1, pval_cutoff = 0.05) {\n",
        "  data$Significant <- \"Not Sig.\"\n",
        "  data$Significant[data$logFC >= logFC_cutoff & data$adj.P.Val < pval_cutoff] <- \"Up\"\n",
        "  data$Significant[data$logFC <= -logFC_cutoff & data$adj.P.Val < pval_cutoff] <- \"Down\"\n",
        "\n",
        "  ggplot(data, aes(x = logFC, y = -log10(adj.P.Val), color = Significant)) +\n",
        "    geom_point(alpha = 0.8) +\n",
        "    scale_color_manual(values = c(\"blue\", \"grey\", \"red\")) +\n",
        "    theme_minimal() +\n",
        "    labs(title = title, x = \"log2 Fold Change\", y = \"-log10 Adjusted P-Value\") +\n",
        "    geom_vline(xintercept = c(-logFC_cutoff, logFC_cutoff), linetype = \"dashed\", color = \"black\") +\n",
        "    geom_hline(yintercept = -log10(pval_cutoff), linetype = \"dashed\", color = \"black\")\n",
        "}\n",
        "volcano_plot(deg_met_vs_ctrl, \"Volcano Plot: Metastatic vs Control\")\n",
        "volcano_plot(deg_met_vs_prim, \"Volcano Plot: Metastatic vs Primary\")"
      ]
    },
    {
      "cell_type": "code",
      "execution_count": null,
      "metadata": {
        "id": "a681jlwi0Pob"
      },
      "outputs": [],
      "source": [
        "# Select top 10 DEGs by adjusted p-value\n",
        "top_genes_ctrl <- rownames(deg_met_vs_ctrl)[1:10]\n",
        "top_genes_prim <- rownames(deg_met_vs_prim)[1:10]"
      ]
    },
    {
      "cell_type": "code",
      "execution_count": null,
      "metadata": {
        "id": "5avbJBR5xhmM"
      },
      "outputs": [],
      "source": [
        "# Subset expression data for heatmap\n",
        "expr_matrix_ctrl <- expr_data[top_genes_ctrl, c(control_samples, metastatic_samples)]\n",
        "expr_matrix_prim <- expr_data[top_genes_prim, c(primary_samples, metastatic_samples)]\n",
        "\n",
        "# Normalize\n",
        "expr_matrix_ctrl_scaled <- t(scale(t(as.matrix(expr_matrix_ctrl))))\n",
        "expr_matrix_prim_scaled <- t(scale(t(as.matrix(expr_matrix_prim))))\n",
        "\n",
        "# Create annotation\n",
        "annotation_ctrl <- data.frame(Group = factor(c(rep(\"Control\", length(control_samples)), rep(\"Metastatic\", length(metastatic_samples)))))\n",
        "rownames(annotation_ctrl) <- c(control_samples, metastatic_samples)\n",
        "\n",
        "annotation_prim <- data.frame(Group = factor(c(rep(\"Primary\", length(primary_samples)), rep(\"Metastatic\", length(metastatic_samples)))))\n",
        "rownames(annotation_prim) <- c(primary_samples, metastatic_samples)\n",
        "\n",
        "# Draw heatmaps\n",
        "pheatmap(expr_matrix_ctrl_scaled, annotation_col = annotation_ctrl, main = \"Top 10 DEGs: Metastatic vs Control\")\n",
        "pheatmap(expr_matrix_prim_scaled, annotation_col = annotation_prim, main = \"Top 10 DEGs: Metastatic vs Primary\")"
      ]
    },
    {
      "cell_type": "markdown",
      "metadata": {
        "id": "CshyVsjL0Z5G"
      },
      "source": [
        "# Step 8: Save Plots as PNGs"
      ]
    },
    {
      "cell_type": "code",
      "execution_count": null,
      "metadata": {
        "id": "TVWW14-EzebX"
      },
      "outputs": [],
      "source": [
        "\n",
        "\n",
        "png(\"Volcano_Metastatic_vs_Control.png\", width = 1200, height = 1000, res = 150)\n",
        "volcano_plot(deg_met_vs_ctrl, \"Volcano Plot: Metastatic vs Control\")\n",
        "dev.off()\n",
        "png(\"Volcano_Metastatic_vs_Primary.png\", width = 1200, height = 1000, res = 150)\n",
        "volcano_plot(deg_met_vs_prim, \"Volcano Plot: Metastatic vs Primary\")\n",
        "dev.off()\n",
        "\n",
        "png(\"Heatmap_Top10_Met_vs_Control.png\", width = 1200, height = 1000, res = 150)\n",
        "pheatmap(expr_matrix_ctrl_scaled, annotation_col = annotation_ctrl, main = \"Top 10 DEGs: Metastatic vs Control\")\n",
        "dev.off()\n",
        "png(\"Heatmap_Top10_Met_vs_Primary.png\", width = 1200, height = 1000, res = 150)\n",
        "pheatmap(expr_matrix_prim_scaled, annotation_col = annotation_ctrl, main = \"Top 10 DEGs: Metastatic vs Control\")\n",
        "dev.off()\n"
      ]
    }
  ],
  "metadata": {
    "colab": {
      "collapsed_sections": [
        "i8f1mntHyz9Q"
      ],
      "provenance": [],
      "authorship_tag": "ABX9TyPVwKh5SVVgW4ebvwcGnSY/",
      "include_colab_link": true
    },
    "kernelspec": {
      "display_name": "R",
      "name": "ir"
    },
    "language_info": {
      "name": "R"
    }
  },
  "nbformat": 4,
  "nbformat_minor": 0
}